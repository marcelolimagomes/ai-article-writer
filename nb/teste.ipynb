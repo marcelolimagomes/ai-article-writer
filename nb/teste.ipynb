{
 "cells": [
  {
   "cell_type": "code",
   "execution_count": null,
   "id": "53d85298",
   "metadata": {},
   "outputs": [],
   "source": [
    "import sys\n",
    "import os\n",
    "import logging\n",
    "from typing import List, Dict, TypedDict, Optional\n",
    "from langchain_community.tools import DuckDuckGoSearchRun, DuckDuckGoSearchResults\n",
    "from langchain_community.utilities.duckduckgo_search import DuckDuckGoSearchAPIWrapper\n",
    "from langchain_openai import ChatOpenAI\n",
    "from langchain_core.prompts import ChatPromptTemplate\n",
    "from langgraph.graph import StateGraph, END\n",
    "import markdown\n",
    "from weasyprint import HTML\n",
    "import re\n",
    "import requests\n",
    "from dotenv import load_dotenv\n",
    "\n",
    "\n",
    "load_dotenv()\n",
    "\n",
    "# Configuração do logging\n",
    "logging.basicConfig(\n",
    "    level=logging.INFO,\n",
    "    format='%(asctime)s - %(levelname)s - %(message)s',\n",
    "    handlers=[\n",
    "        logging.StreamHandler(),\n",
    "        logging.FileHandler('app.log')\n",
    "    ]\n",
    ")\n",
    "logger = logging.getLogger(__name__)\n",
    "\n",
    "\n",
    "# Ferramenta personalizada para busca de imagens com timeout aumentado\n",
    "\n",
    "\n",
    "class CustomDuckDuckGoSearchAPIWrapper(DuckDuckGoSearchAPIWrapper):\n",
    "    def _ddgs_images(\n",
    "        self, query: str, max_results: Optional[int] = None\n",
    "    ) -> List[Dict[str, str]]:\n",
    "        \"\"\"Run query through DuckDuckGo image search and return results.\"\"\"\n",
    "        print(\"<<<<<<<<<<>>>>>>>>>>>> Run query through DuckDuckGo image search and return results. Query:\", query)\n",
    "        from duckduckgo_search import DDGS\n",
    "        try:\n",
    "            with DDGS(timeout=30) as ddgs:  # Aumente o timeout para 30 segundos\n",
    "                ddgs_gen = ddgs.images(\n",
    "                    query,\n",
    "                    region=self.region,  # type: ignore[arg-type]\n",
    "                    safesearch=self.safesearch,\n",
    "                    max_results=max_results or self.max_results,\n",
    "                )\n",
    "                if ddgs_gen:\n",
    "                    return [r for r in ddgs_gen]\n",
    "        except Exception as e:\n",
    "            logger.error(f\"Timeout ao buscar imagens para a consulta: {e}\")\n",
    "\n",
    "        return []\n",
    "\n",
    "\n"
   ]
  },
  {
   "cell_type": "code",
   "execution_count": null,
   "id": "09fef4e0",
   "metadata": {},
   "outputs": [
    {
     "name": "stderr",
     "output_type": "stream",
     "text": [
      "2025-04-21 18:52:30,703 - INFO - response: https://duckduckgo.com/?q=MCP+Servers 200\n",
      "2025-04-21 18:52:31,951 - INFO - response: https://duckduckgo.com/i.js?l=wt-wt&o=json&q=MCP+Servers&vqd=4-175489007710754001935156270497839561985&f=%2C%2C%2C%2C%2C&p=1 200\n"
     ]
    },
    {
     "name": "stdout",
     "output_type": "stream",
     "text": [
      "Resultados encontrados: 4 - [{'title': 'Use Claude Desktop and MCP Servers to Automate Your Desktop & Coding ...', 'thumbnail': 'https://tse2.mm.bing.net/th?id=OIP.qQ1amAFE9QLdI0hHJ6Q5rgHaEb&pid=Api', 'image': 'https://miro.medium.com/v2/resize:fit:1358/1*0Xn_PSA3g0O7DdCeI93ZGw.png', 'url': 'https://medium.com/@mknebel/how-to-automate-your-workflow-wtih-claude-desktop-and-mcp-servers-5072844b86d1', 'height': 811, 'width': 1358, 'source': 'Bing'}, {'title': 'Istio与Mcp Server服务器讲解与搭建演示_istio_谐云_InfoQ写作社区', 'thumbnail': 'https://tse3.mm.bing.net/th?id=OIP.4GVaL6jgQErVUbMUKX6jWgHaDR&pid=Api', 'image': 'https://static001.geekbang.org/infoq/c4/c4b8e7e9d17e4acbebd377064e20343e.png', 'url': 'https://xie.infoq.cn/article/d6fda55bca526128a5bce617f', 'height': 478, 'width': 1080, 'source': 'Bing'}, {'title': 'The Model Context Protocol: Simplifying Building AI apps with Anthropic ...', 'thumbnail': 'https://tse1.mm.bing.net/th?id=OIP.y1UsNHK71UUHY5VVB9JkGwHaDt&pid=Api', 'image': 'https://www.docker.com/app/uploads/2024/12/Model_Context_Protocol_2.png', 'url': 'https://www.docker.com/blog/the-model-context-protocol-simplifying-building-ai-apps-with-anthropic-claude-desktop-and-docker/', 'height': 468, 'width': 936, 'source': 'Bing'}, {'title': \"What is Anthropic's Model Context Protocol (MCP)? What is an MCP server ...\", 'thumbnail': 'https://tse4.mm.bing.net/th?id=OIP.zAiWvj27kmCuvheyT9Y_hAHaFL&pid=Api', 'image': 'https://4sysops.com/wp-content/uploads/2025/01/MCP-protocol-architecture-600x420.png', 'url': 'https://4sysops.com/archives/what-is-anthropics-model-context-protocol-mcp-what-is-an-mcp-server/', 'height': 420, 'width': 600, 'source': 'Bing'}]\n",
      "Imagem principal encontrada: https://www.docker.com/app/uploads/2024/12/Model_Context_Protocol_2.png\n"
     ]
    }
   ],
   "source": [
    "import traceback\n",
    "import json\n",
    "import random\n",
    "from langchain_community.tools.ddg_search.tool import DDGInput\n",
    "from pydantic import BaseModel, Field\n",
    "from typing import Any, List, Literal, Optional, Type, Union\n",
    "# Busca de imagem\n",
    "topic = \"MCP Servers\"\n",
    "\n",
    "\n",
    "image_search_tool = DuckDuckGoSearchResults(\n",
    "    output_format=\"json\",    \n",
    "    max_results=1,\n",
    "    backend=\"images\",\n",
    "    )\n",
    "\n",
    "try:\n",
    "    image_results = json.loads(image_search_tool.run(topic))\n",
    "    len_results = len(image_results)\n",
    "    print(f\"Resultados encontrados: {len_results} - {image_results}\")\n",
    "    random.shuffle(image_results)    \n",
    "    main_image = image_results[0]['image'] if len_results > 0 else \"\"\n",
    "        \n",
    "    print(f\"Imagem principal encontrada: {main_image}\")\n",
    "except Exception as e:\n",
    "    traceback.print_exc()\n",
    "    print(f\"Erro na busca de imagem principal: {e}\")\n",
    "    main_image = \"\""
   ]
  }
 ],
 "metadata": {
  "kernelspec": {
   "display_name": "bot4",
   "language": "python",
   "name": "python3"
  },
  "language_info": {
   "codemirror_mode": {
    "name": "ipython",
    "version": 3
   },
   "file_extension": ".py",
   "mimetype": "text/x-python",
   "name": "python",
   "nbconvert_exporter": "python",
   "pygments_lexer": "ipython3",
   "version": "3.11.11"
  }
 },
 "nbformat": 4,
 "nbformat_minor": 5
}
